{
 "cells": [
  {
   "cell_type": "markdown",
   "metadata": {},
   "source": [
    "#### Version 5:  \n",
    "_This is the second version of the model. This is developed with variables removed from the initial list. This was developed after omitting the following columns: MS SubClass, MS Zoning, Miscellaneous Features, Exterior 1st, Exterior 2nd, Lot Area, Condition 2, Above Ground Living Area, Foundation Type, and Heating Type_"
   ]
  },
  {
   "cell_type": "markdown",
   "metadata": {},
   "source": [
    "### Imports and Data Reading"
   ]
  },
  {
   "cell_type": "code",
   "execution_count": 43,
   "metadata": {},
   "outputs": [],
   "source": [
    "import pandas as pd\n",
    "import numpy as np \n",
    "import matplotlib.pyplot as plt\n",
    "import seaborn as sns\n",
    "\n",
    "from sklearn.linear_model import LinearRegression, LassoCV, RidgeCV\n",
    "from sklearn.metrics import mean_absolute_error, mean_squared_error\n",
    "from sklearn.model_selection import cross_val_score, train_test_split\n",
    "from sklearn.preprocessing import StandardScaler"
   ]
  },
  {
   "cell_type": "code",
   "execution_count": 44,
   "metadata": {},
   "outputs": [],
   "source": [
    "# Make sure you use the CLEANED csv's! \n",
    "\n",
    "train = pd.read_csv(\"./datasets/train_cleaned.csv\")\n",
    "test = pd.read_csv(\"./datasets/test_cleaned.csv\")\n",
    "\n",
    "# including these in case I get rid of columns I want to get back O___o\n",
    "\n",
    "train_source = pd.read_csv(\"./datasets/train_cleaned.csv\")\n",
    "test_source = pd.read_csv(\"./datasets/test_cleaned.csv\")"
   ]
  },
  {
   "cell_type": "markdown",
   "metadata": {},
   "source": [
    "### Attribute Selection and Dummifying "
   ]
  },
  {
   "cell_type": "markdown",
   "metadata": {},
   "source": [
    "As a reminder, here are the traits identified during EDA to use in the model:\n",
    "\n",
    "**Categorical/Discrete:** Number of Rooms, Neighborhood, House Style, Basement Condition, Heating Type, Electricity Type, Garage Type, Pool Quality, MS SubClass, MS Zoning, Utility Type, Proximity to Conditions (1 and 2), Exterior Covering (1 and 2), Building Foundation Type, Miscellaneous Feature, Kitchen Quality\n",
    "\n",
    "**Numerical/Continuous:** House Age, Remodel Age, Above Ground Living Area, Total Square Footage Available, Lot Area, Overall Quality/Condition Average\n",
    "\n",
    "**Total Number of Variables (excluding trait dummying):** 24"
   ]
  },
  {
   "cell_type": "code",
   "execution_count": 45,
   "metadata": {},
   "outputs": [],
   "source": [
    "# to start, let's isolate the columns we want to keep \n",
    "\n",
    "keep_test = [\"Id\", \"Utilities\", \"Neighborhood\", \"Condition 1\",\n",
    "        \"House Style\", \"Bsmt Cond\", \"Electrical\", \n",
    "        \"Kitchen Qual\", \"TotRms AbvGrd\", \"Garage Type\", \"Pool QC\",\"Total SF\",\n",
    "        \"Overall Qu Co Avg\", \"Age Sold\", \"Remodel Age\"]\n",
    "\n",
    "keep_train = keep_test + [\"SalePrice\"]"
   ]
  },
  {
   "cell_type": "code",
   "execution_count": 46,
   "metadata": {},
   "outputs": [],
   "source": [
    "train = train[keep_train]\n",
    "\n",
    "test = test[keep_test]"
   ]
  },
  {
   "cell_type": "code",
   "execution_count": 47,
   "metadata": {},
   "outputs": [],
   "source": [
    "# define a function for dummifying all the categorical traits \n",
    "\n",
    "def dummify(df, column, prefix): \n",
    "    return pd.get_dummies(df, columns = [f\"{column}\"], prefix = f\"{prefix}\", drop_first = True)"
   ]
  },
  {
   "cell_type": "code",
   "execution_count": 48,
   "metadata": {},
   "outputs": [],
   "source": [
    "# dummify the categoricals \n",
    "\n",
    "categoricals = [\"Utilities\", \"Neighborhood\", \"Condition 1\",\n",
    "                \"House Style\", \"Electrical\", \n",
    "                \"Kitchen Qual\", \"Garage Type\"]\n",
    "prefixes = [\"Util\", \"Neighborhood\", \"Cond\", \"Style\",\n",
    "            \"Elec\", \"Kitchen\", \"Garage\"]\n",
    "\n",
    "for cat in range(len(categoricals)): \n",
    "    train = dummify(train, f\"{categoricals[cat]}\", f\"{prefixes[cat]}\")\n",
    "    \n",
    "for cat in range(len(categoricals)): \n",
    "    test = dummify(test, f\"{categoricals[cat]}\", f\"{prefixes[cat]}\")"
   ]
  },
  {
   "cell_type": "code",
   "execution_count": 49,
   "metadata": {},
   "outputs": [],
   "source": [
    "# fill in numerical values for ranked columns \n",
    "\n",
    "train[\"Pool QC\"].fillna(value = \"NA\", inplace = True)\n",
    "test[\"Pool QC\"].fillna(value = \"NA\", inplace = True)\n",
    "\n",
    "train[\"Bsmt Cond\"].fillna(value = \"NA\", inplace = True)\n",
    "test[\"Bsmt Cond\"].fillna(value = \"NA\", inplace = True)\n",
    "\n",
    "train[\"Bsmt Cond\"].replace(to_replace = {\"Ex\" : 5, \"Gd\": 4, \"TA\": 3, \"Fa\": 2, \"Po\": 1, \"NA\": 0}, inplace = True)\n",
    "train[\"Bsmt Cond\"].astype('int')\n",
    "test[\"Bsmt Cond\"].replace(to_replace = {\"Ex\" : 5, \"Gd\": 4, \"TA\": 3, \"Fa\": 2, \"Po\": 1, \"NA\": 0}, inplace = True)\n",
    "test[\"Bsmt Cond\"].astype('int')\n",
    "\n",
    "train[\"Pool QC\"].replace(to_replace = {\"Ex\": 4, \"Gd\": 3, \"TA\": 2, \"Fa\": 1, \"NA\": 0}, inplace = True)\n",
    "train[\"Pool QC\"].astype('int')\n",
    "test[\"Pool QC\"].replace(to_replace = {\"Ex\": 4, \"Gd\": 3, \"TA\": 2, \"Fa\": 1, \"NA\": 0}, inplace = True)\n",
    "test[\"Pool QC\"].astype('int'); "
   ]
  },
  {
   "cell_type": "code",
   "execution_count": 50,
   "metadata": {},
   "outputs": [],
   "source": [
    "# remove outliers from training set identified in EDA section \n",
    "\n",
    "train = train[(train[\"Total SF\"] < 10000)]"
   ]
  },
  {
   "cell_type": "code",
   "execution_count": 51,
   "metadata": {},
   "outputs": [
    {
     "data": {
      "text/plain": [
       "(2049, 65)"
      ]
     },
     "execution_count": 51,
     "metadata": {},
     "output_type": "execute_result"
    }
   ],
   "source": [
    "train.shape"
   ]
  },
  {
   "cell_type": "code",
   "execution_count": 52,
   "metadata": {},
   "outputs": [
    {
     "data": {
      "text/plain": [
       "(878, 61)"
      ]
     },
     "execution_count": 52,
     "metadata": {},
     "output_type": "execute_result"
    }
   ],
   "source": [
    "test.shape"
   ]
  },
  {
   "cell_type": "code",
   "execution_count": 53,
   "metadata": {},
   "outputs": [],
   "source": [
    "# the columns are different now. \n",
    "# UGGGGHHHHHHHHHHHH"
   ]
  },
  {
   "cell_type": "code",
   "execution_count": 54,
   "metadata": {},
   "outputs": [],
   "source": [
    "# identify columns that are missing from one set but present in another \n",
    "# these are from when we dummified the categoricals\n",
    "# so columns will be created and filled with 0's \n",
    "\n",
    "needed_test = [col for col in train.columns if col not in test.columns]\n",
    "\n",
    "needed_test.remove(\"SalePrice\")\n",
    "\n",
    "needed_train = [col for col in test.columns if col not in train.columns]\n",
    "\n",
    "for col in range(len(needed_test)): \n",
    "    test[f\"{needed_test[col]}\"] = 0 * len(test[\"Age Sold\"])\n",
    "    \n",
    "for col in range(len(needed_train)): \n",
    "    train[f\"{needed_train[col]}\"] = 0 * len(train[\"Age Sold\"])"
   ]
  },
  {
   "cell_type": "code",
   "execution_count": 55,
   "metadata": {},
   "outputs": [
    {
     "data": {
      "text/plain": [
       "(878, 65)"
      ]
     },
     "execution_count": 55,
     "metadata": {},
     "output_type": "execute_result"
    }
   ],
   "source": [
    "test.shape"
   ]
  },
  {
   "cell_type": "code",
   "execution_count": 56,
   "metadata": {},
   "outputs": [
    {
     "data": {
      "text/plain": [
       "(2049, 66)"
      ]
     },
     "execution_count": 56,
     "metadata": {},
     "output_type": "execute_result"
    }
   ],
   "source": [
    "train.shape"
   ]
  },
  {
   "cell_type": "code",
   "execution_count": 57,
   "metadata": {},
   "outputs": [],
   "source": [
    "# Now the columns match up\n",
    "# yay. "
   ]
  },
  {
   "cell_type": "markdown",
   "metadata": {},
   "source": [
    "### Feature Assignment and Splitting"
   ]
  },
  {
   "cell_type": "code",
   "execution_count": 58,
   "metadata": {},
   "outputs": [],
   "source": [
    "# define variables\n",
    "\n",
    "X = train.drop(columns = [\"Id\", \"SalePrice\"])\n",
    "\n",
    "y = train[\"SalePrice\"]"
   ]
  },
  {
   "cell_type": "code",
   "execution_count": 59,
   "metadata": {},
   "outputs": [],
   "source": [
    "X_train, X_test, y_train, y_test = train_test_split(X, y, test_size = 0.33, random_state = 69)\n",
    "\n",
    "# cannot stratify -- it got mad, there was only one instance of certain traits (due to dummifying)\n",
    "# changed random state because 42 was giving me some weird numbers, and after trying 123 69 was the tie breaker"
   ]
  },
  {
   "cell_type": "markdown",
   "metadata": {},
   "source": [
    "### Modeling"
   ]
  },
  {
   "cell_type": "markdown",
   "metadata": {},
   "source": [
    "#### Linear Regression "
   ]
  },
  {
   "cell_type": "code",
   "execution_count": 60,
   "metadata": {},
   "outputs": [
    {
     "data": {
      "text/plain": [
       "LinearRegression(copy_X=True, fit_intercept=True, n_jobs=None, normalize=False)"
      ]
     },
     "execution_count": 60,
     "metadata": {},
     "output_type": "execute_result"
    }
   ],
   "source": [
    "# classic linear regression model \n",
    "\n",
    "model = LinearRegression()\n",
    "\n",
    "model.fit(X_train, y_train)"
   ]
  },
  {
   "cell_type": "code",
   "execution_count": 61,
   "metadata": {},
   "outputs": [
    {
     "data": {
      "text/plain": [
       "0.8563571451103135"
      ]
     },
     "execution_count": 61,
     "metadata": {},
     "output_type": "execute_result"
    }
   ],
   "source": [
    "cross_val_score(model, X_train, y_train, cv = 12).mean()"
   ]
  },
  {
   "cell_type": "code",
   "execution_count": 62,
   "metadata": {},
   "outputs": [
    {
     "data": {
      "text/plain": [
       "0.8656868262206027"
      ]
     },
     "execution_count": 62,
     "metadata": {},
     "output_type": "execute_result"
    }
   ],
   "source": [
    "cross_val_score(model, X_test, y_test, cv = 12).mean()\n",
    "\n",
    "# there is a difference of about 0.1 between my R^2 values--try other regressions for more aligned outcomes"
   ]
  },
  {
   "cell_type": "code",
   "execution_count": 63,
   "metadata": {},
   "outputs": [
    {
     "data": {
      "image/png": "[encoded data removed]",
      "text/plain": [
       "<Figure size 432x288 with 1 Axes>"
      ]
     },
     "metadata": {
      "needs_background": "light"
     },
     "output_type": "display_data"
    }
   ],
   "source": [
    "y_preds = model.predict(X_train)\n",
    "\n",
    "\n",
    "plt.figure(figsize = (6, 4))\n",
    "plt.scatter(y_train, y_preds, s = 12, alpha = 0.3)\n",
    "plt.title(\"Residuals\")\n",
    "plt.xlabel(\"Actual Values\")\n",
    "plt.ylabel(\"Predicted Values\"); "
   ]
  },
  {
   "cell_type": "markdown",
   "metadata": {},
   "source": [
    "#### Scaled Linear Regression"
   ]
  },
  {
   "cell_type": "code",
   "execution_count": 64,
   "metadata": {},
   "outputs": [
    {
     "data": {
      "text/plain": [
       "StandardScaler(copy=True, with_mean=True, with_std=True)"
      ]
     },
     "execution_count": 64,
     "metadata": {},
     "output_type": "execute_result"
    }
   ],
   "source": [
    "ss = StandardScaler()\n",
    "\n",
    "ss.fit(X_train)\n"
   ]
  },
  {
   "cell_type": "code",
   "execution_count": 65,
   "metadata": {},
   "outputs": [],
   "source": [
    "X_train_sc = ss.transform(X_train)"
   ]
  },
  {
   "cell_type": "code",
   "execution_count": 66,
   "metadata": {},
   "outputs": [],
   "source": [
    "X_test_sc = ss.transform(X_test)"
   ]
  },
  {
   "cell_type": "code",
   "execution_count": 67,
   "metadata": {},
   "outputs": [
    {
     "data": {
      "text/plain": [
       "LinearRegression(copy_X=True, fit_intercept=True, n_jobs=None, normalize=False)"
      ]
     },
     "execution_count": 67,
     "metadata": {},
     "output_type": "execute_result"
    }
   ],
   "source": [
    "model2 = LinearRegression()\n",
    "\n",
    "model2.fit(X_train_sc, y_train)"
   ]
  },
  {
   "cell_type": "code",
   "execution_count": 68,
   "metadata": {},
   "outputs": [
    {
     "data": {
      "text/plain": [
       "array([ 8.29043774e-01,  8.08003386e-01,  8.50793607e-01,  8.66251574e-01,\n",
       "        8.53188530e-01,  8.57031172e-01,  9.05017733e-01,  8.75944134e-01,\n",
       "       -2.70938575e+22,  8.79578315e-01, -8.51474027e+24, -1.31561965e+21])"
      ]
     },
     "execution_count": 68,
     "metadata": {},
     "output_type": "execute_result"
    }
   ],
   "source": [
    "cross_val_score(model2, X_train_sc, y_train, cv = 12)"
   ]
  },
  {
   "cell_type": "code",
   "execution_count": 69,
   "metadata": {},
   "outputs": [
    {
     "data": {
      "text/plain": [
       "-7.119291459118781e+23"
      ]
     },
     "execution_count": 69,
     "metadata": {},
     "output_type": "execute_result"
    }
   ],
   "source": [
    "cross_val_score(model2, X_train_sc, y_train, cv = 12).mean()"
   ]
  },
  {
   "cell_type": "code",
   "execution_count": 70,
   "metadata": {},
   "outputs": [
    {
     "data": {
      "text/plain": [
       "array([ 7.26480774e-01,  8.76826668e-01,  8.23320565e-01, -3.50263705e+20,\n",
       "        4.86289831e-01,  8.52533219e-01,  8.75588149e-01, -2.10181418e+19,\n",
       "        8.80391701e-01,  8.87306729e-01, -1.24751156e+23, -5.95300003e+22])"
      ]
     },
     "execution_count": 70,
     "metadata": {},
     "output_type": "execute_result"
    }
   ],
   "source": [
    "cross_val_score(model2, X_test_sc, y_test, cv = 12)\n",
    "\n",
    "# well, this clearly isn't working"
   ]
  },
  {
   "cell_type": "code",
   "execution_count": 71,
   "metadata": {},
   "outputs": [
    {
     "data": {
      "text/plain": [
       "-1.5387703172769075e+22"
      ]
     },
     "execution_count": 71,
     "metadata": {},
     "output_type": "execute_result"
    }
   ],
   "source": [
    "cross_val_score(model2, X_test_sc, y_test, cv = 12).mean()"
   ]
  },
  {
   "cell_type": "markdown",
   "metadata": {},
   "source": [
    "#### LASSO Regression"
   ]
  },
  {
   "cell_type": "code",
   "execution_count": 72,
   "metadata": {},
   "outputs": [
    {
     "data": {
      "text/plain": [
       "LassoCV(alphas=array([   1.        ,    1.07226722,    1.149757  ,    1.23284674,\n",
       "          1.32194115,    1.41747416,    1.51991108,    1.62975083,\n",
       "          1.7475284 ,    1.87381742,    2.009233  ,    2.15443469,\n",
       "          2.3101297 ,    2.47707636,    2.65608778,    2.84803587,\n",
       "          3.05385551,    3.27454916,    3.51119173,    3.76493581,\n",
       "          4.03701726,    4.32876128,    4.64158883,    4.97702356,\n",
       "          5.33669923,    5.72236766,    6.13590727,    6.57933225,\n",
       "          7.05480231,    7.56463328,    8.11130831,    8...\n",
       "        351.11917342,  376.49358068,  403.70172586,  432.87612811,\n",
       "        464.15888336,  497.70235643,  533.66992312,  572.23676594,\n",
       "        613.59072734,  657.93322466,  705.48023107,  756.46332755,\n",
       "        811.13083079,  869.74900262,  932.60334688, 1000.        ]),\n",
       "        copy_X=True, cv=5, eps=0.001, fit_intercept=True, max_iter=1000,\n",
       "        n_alphas=100, n_jobs=None, normalize=False, positive=False,\n",
       "        precompute='auto', random_state=None, selection='cyclic', tol=0.0001,\n",
       "        verbose=False)"
      ]
     },
     "execution_count": 72,
     "metadata": {},
     "output_type": "execute_result"
    }
   ],
   "source": [
    "lasso = LassoCV(cv = 5, alphas = np.logspace(0, 3, 100))\n",
    "\n",
    "lasso.fit(X_train_sc, y_train)"
   ]
  },
  {
   "cell_type": "code",
   "execution_count": 73,
   "metadata": {},
   "outputs": [
    {
     "data": {
      "text/plain": [
       "0.8566097267596479"
      ]
     },
     "execution_count": 73,
     "metadata": {},
     "output_type": "execute_result"
    }
   ],
   "source": [
    "cross_val_score(lasso, X_train_sc, y_train, cv = 12).mean()"
   ]
  },
  {
   "cell_type": "code",
   "execution_count": 74,
   "metadata": {},
   "outputs": [
    {
     "data": {
      "text/plain": [
       "0.8579028583553461"
      ]
     },
     "execution_count": 74,
     "metadata": {},
     "output_type": "execute_result"
    }
   ],
   "source": [
    "cross_val_score(lasso, X_test_sc, y_test, cv = 12).mean()\n",
    "\n",
    "# R^2 values are much closer together now, and remained pretty high"
   ]
  },
  {
   "cell_type": "code",
   "execution_count": 75,
   "metadata": {},
   "outputs": [
    {
     "data": {
      "image/png": "[encoded data removed]",
      "text/plain": [
       "<Figure size 432x288 with 1 Axes>"
      ]
     },
     "metadata": {
      "needs_background": "light"
     },
     "output_type": "display_data"
    }
   ],
   "source": [
    "y_lasso_preds = lasso.predict(X_train_sc)\n",
    "\n",
    "plt.figure(figsize = (6, 4))\n",
    "\n",
    "plt.scatter(y_train, y_lasso_preds, s = 12, alpha = 0.3)\n",
    "plt.title(\"Residuals: Lasso Regression\")\n",
    "plt.xlabel(\"Actual Values\")\n",
    "plt.ylabel(\"Predicted Values\"); "
   ]
  },
  {
   "cell_type": "markdown",
   "metadata": {},
   "source": [
    "#### Ridge Regression"
   ]
  },
  {
   "cell_type": "code",
   "execution_count": 76,
   "metadata": {},
   "outputs": [
    {
     "data": {
      "text/plain": [
       "RidgeCV(alphas=array([ 0.1,  1. , 10. ]), cv=None, fit_intercept=True,\n",
       "        gcv_mode=None, normalize=False, scoring=None, store_cv_values=False)"
      ]
     },
     "execution_count": 76,
     "metadata": {},
     "output_type": "execute_result"
    }
   ],
   "source": [
    "ridge = RidgeCV()\n",
    "\n",
    "ridge.fit(X_train_sc, y_train)"
   ]
  },
  {
   "cell_type": "code",
   "execution_count": 77,
   "metadata": {},
   "outputs": [
    {
     "data": {
      "text/plain": [
       "0.8563350906175812"
      ]
     },
     "execution_count": 77,
     "metadata": {},
     "output_type": "execute_result"
    }
   ],
   "source": [
    "cross_val_score(ridge, X_train_sc, y_train, cv = 12).mean()"
   ]
  },
  {
   "cell_type": "code",
   "execution_count": 78,
   "metadata": {},
   "outputs": [
    {
     "data": {
      "text/plain": [
       "0.8626747718202049"
      ]
     },
     "execution_count": 78,
     "metadata": {},
     "output_type": "execute_result"
    }
   ],
   "source": [
    "cross_val_score(ridge, X_test_sc, y_test, cv = 12).mean()\n",
    "\n",
    "# cross val score for train set is almost same with Ridge as with Lasso \n",
    "# Lasso performed better with test set "
   ]
  },
  {
   "cell_type": "code",
   "execution_count": 79,
   "metadata": {},
   "outputs": [
    {
     "data": {
      "image/png": "[encoded data removed]",
      "text/plain": [
       "<Figure size 432x288 with 1 Axes>"
      ]
     },
     "metadata": {
      "needs_background": "light"
     },
     "output_type": "display_data"
    }
   ],
   "source": [
    "y_ridge_preds = ridge.predict(X_train_sc)\n",
    "\n",
    "plt.figure(figsize = (6, 4))\n",
    "\n",
    "plt.scatter(y_train, y_ridge_preds, s = 12, alpha = 0.3)\n",
    "plt.title(\"Residuals: Ridge Regression\")\n",
    "plt.xlabel(\"Actual Values\")\n",
    "plt.ylabel(\"Predicted Values\"); "
   ]
  },
  {
   "cell_type": "code",
   "execution_count": null,
   "metadata": {},
   "outputs": [],
   "source": []
  },
  {
   "cell_type": "code",
   "execution_count": null,
   "metadata": {},
   "outputs": [],
   "source": []
  },
  {
   "cell_type": "code",
   "execution_count": null,
   "metadata": {},
   "outputs": [],
   "source": []
  },
  {
   "cell_type": "code",
   "execution_count": null,
   "metadata": {},
   "outputs": [],
   "source": []
  },
  {
   "cell_type": "markdown",
   "metadata": {},
   "source": [
    "### Summary : Version 5\n",
    "This version had **Lasso Regression** as the best performing regression model. \n",
    " - Train $R^2$ = 0.857\n",
    " - Test $R^2$ = 0.858\n",
    " \n",
    "Other regression models performed as such: \n",
    " - **Ridge Regression** \n",
    "   - Train $R^2$ = 0.856\n",
    "   - Test $RR^2$ = 0.863\n",
    " - **Linear Regression**\n",
    "   - Train $R^2$ = 0.856\n",
    "   - Test $R^2$ = 0.866\n",
    " - **Scaled Linear Regression** \n",
    "   - Train $R^2$ = practically zero\n",
    "   - Test $R^2$ = practically zero "
   ]
  },
  {
   "cell_type": "markdown",
   "metadata": {},
   "source": [
    "#### Exporting Predictions for Kaggle "
   ]
  },
  {
   "cell_type": "markdown",
   "metadata": {},
   "source": [
    "Similarity of scores across training and test sets in addition to simplicity (compared to starting point) motivated determination to submit predictions from this model to Kaggle competition. "
   ]
  },
  {
   "cell_type": "code",
   "execution_count": 81,
   "metadata": {},
   "outputs": [],
   "source": [
    "test_noId = test.drop(columns = [\"Id\"])"
   ]
  },
  {
   "cell_type": "code",
   "execution_count": 82,
   "metadata": {},
   "outputs": [],
   "source": [
    "y_preds_test = lasso.predict(test_noId)"
   ]
  },
  {
   "cell_type": "code",
   "execution_count": 83,
   "metadata": {},
   "outputs": [],
   "source": [
    "test[\"SalePrice\"] = y_preds_test"
   ]
  },
  {
   "cell_type": "code",
   "execution_count": 85,
   "metadata": {},
   "outputs": [
    {
     "data": {
      "text/html": [
       "<div>\n",
       "<style scoped>\n",
       "    .dataframe tbody tr th:only-of-type {\n",
       "        vertical-align: middle;\n",
       "    }\n",
       "\n",
       "    .dataframe tbody tr th {\n",
       "        vertical-align: top;\n",
       "    }\n",
       "\n",
       "    .dataframe thead th {\n",
       "        text-align: right;\n",
       "    }\n",
       "</style>\n",
       "<table border=\"1\" class=\"dataframe\">\n",
       "  <thead>\n",
       "    <tr style=\"text-align: right;\">\n",
       "      <th></th>\n",
       "      <th>Id</th>\n",
       "      <th>Bsmt Cond</th>\n",
       "      <th>TotRms AbvGrd</th>\n",
       "      <th>Pool QC</th>\n",
       "      <th>Total SF</th>\n",
       "      <th>Overall Qu Co Avg</th>\n",
       "      <th>Age Sold</th>\n",
       "      <th>Remodel Age</th>\n",
       "      <th>Util_NoSewr</th>\n",
       "      <th>Neighborhood_Blueste</th>\n",
       "      <th>...</th>\n",
       "      <th>Garage_Attchd</th>\n",
       "      <th>Garage_Basment</th>\n",
       "      <th>Garage_BuiltIn</th>\n",
       "      <th>Garage_CarPort</th>\n",
       "      <th>Garage_Detchd</th>\n",
       "      <th>Util_NoSeWa</th>\n",
       "      <th>Neighborhood_GrnHill</th>\n",
       "      <th>Neighborhood_Landmrk</th>\n",
       "      <th>Elec_Mix</th>\n",
       "      <th>SalePrice</th>\n",
       "    </tr>\n",
       "  </thead>\n",
       "  <tbody>\n",
       "    <tr>\n",
       "      <td>0</td>\n",
       "      <td>2658</td>\n",
       "      <td>3</td>\n",
       "      <td>9</td>\n",
       "      <td>0</td>\n",
       "      <td>2948</td>\n",
       "      <td>7.0</td>\n",
       "      <td>96</td>\n",
       "      <td>56</td>\n",
       "      <td>0</td>\n",
       "      <td>0</td>\n",
       "      <td>...</td>\n",
       "      <td>0</td>\n",
       "      <td>0</td>\n",
       "      <td>0</td>\n",
       "      <td>0</td>\n",
       "      <td>1</td>\n",
       "      <td>0</td>\n",
       "      <td>0</td>\n",
       "      <td>0</td>\n",
       "      <td>0</td>\n",
       "      <td>1.096081e+08</td>\n",
       "    </tr>\n",
       "    <tr>\n",
       "      <td>1</td>\n",
       "      <td>2718</td>\n",
       "      <td>3</td>\n",
       "      <td>10</td>\n",
       "      <td>0</td>\n",
       "      <td>3934</td>\n",
       "      <td>4.5</td>\n",
       "      <td>29</td>\n",
       "      <td>29</td>\n",
       "      <td>0</td>\n",
       "      <td>0</td>\n",
       "      <td>...</td>\n",
       "      <td>1</td>\n",
       "      <td>0</td>\n",
       "      <td>0</td>\n",
       "      <td>0</td>\n",
       "      <td>0</td>\n",
       "      <td>0</td>\n",
       "      <td>0</td>\n",
       "      <td>0</td>\n",
       "      <td>0</td>\n",
       "      <td>1.475576e+08</td>\n",
       "    </tr>\n",
       "    <tr>\n",
       "      <td>2</td>\n",
       "      <td>2414</td>\n",
       "      <td>4</td>\n",
       "      <td>7</td>\n",
       "      <td>0</td>\n",
       "      <td>2150</td>\n",
       "      <td>6.0</td>\n",
       "      <td>0</td>\n",
       "      <td>0</td>\n",
       "      <td>0</td>\n",
       "      <td>0</td>\n",
       "      <td>...</td>\n",
       "      <td>1</td>\n",
       "      <td>0</td>\n",
       "      <td>0</td>\n",
       "      <td>0</td>\n",
       "      <td>0</td>\n",
       "      <td>0</td>\n",
       "      <td>0</td>\n",
       "      <td>0</td>\n",
       "      <td>0</td>\n",
       "      <td>8.100967e+07</td>\n",
       "    </tr>\n",
       "    <tr>\n",
       "      <td>3</td>\n",
       "      <td>1989</td>\n",
       "      <td>3</td>\n",
       "      <td>5</td>\n",
       "      <td>0</td>\n",
       "      <td>1936</td>\n",
       "      <td>5.5</td>\n",
       "      <td>84</td>\n",
       "      <td>1</td>\n",
       "      <td>0</td>\n",
       "      <td>0</td>\n",
       "      <td>...</td>\n",
       "      <td>0</td>\n",
       "      <td>0</td>\n",
       "      <td>0</td>\n",
       "      <td>0</td>\n",
       "      <td>1</td>\n",
       "      <td>0</td>\n",
       "      <td>0</td>\n",
       "      <td>0</td>\n",
       "      <td>0</td>\n",
       "      <td>7.183542e+07</td>\n",
       "    </tr>\n",
       "    <tr>\n",
       "      <td>4</td>\n",
       "      <td>625</td>\n",
       "      <td>3</td>\n",
       "      <td>6</td>\n",
       "      <td>0</td>\n",
       "      <td>2788</td>\n",
       "      <td>5.5</td>\n",
       "      <td>46</td>\n",
       "      <td>46</td>\n",
       "      <td>0</td>\n",
       "      <td>0</td>\n",
       "      <td>...</td>\n",
       "      <td>1</td>\n",
       "      <td>0</td>\n",
       "      <td>0</td>\n",
       "      <td>0</td>\n",
       "      <td>0</td>\n",
       "      <td>0</td>\n",
       "      <td>0</td>\n",
       "      <td>0</td>\n",
       "      <td>0</td>\n",
       "      <td>1.042609e+08</td>\n",
       "    </tr>\n",
       "  </tbody>\n",
       "</table>\n",
       "<p>5 rows × 66 columns</p>\n",
       "</div>"
      ],
      "text/plain": [
       "     Id  Bsmt Cond  TotRms AbvGrd  Pool QC  Total SF  Overall Qu Co Avg  \\\n",
       "0  2658          3              9        0      2948                7.0   \n",
       "1  2718          3             10        0      3934                4.5   \n",
       "2  2414          4              7        0      2150                6.0   \n",
       "3  1989          3              5        0      1936                5.5   \n",
       "4   625          3              6        0      2788                5.5   \n",
       "\n",
       "   Age Sold  Remodel Age  Util_NoSewr  Neighborhood_Blueste  ...  \\\n",
       "0        96           56            0                     0  ...   \n",
       "1        29           29            0                     0  ...   \n",
       "2         0            0            0                     0  ...   \n",
       "3        84            1            0                     0  ...   \n",
       "4        46           46            0                     0  ...   \n",
       "\n",
       "   Garage_Attchd  Garage_Basment  Garage_BuiltIn  Garage_CarPort  \\\n",
       "0              0               0               0               0   \n",
       "1              1               0               0               0   \n",
       "2              1               0               0               0   \n",
       "3              0               0               0               0   \n",
       "4              1               0               0               0   \n",
       "\n",
       "   Garage_Detchd  Util_NoSeWa  Neighborhood_GrnHill  Neighborhood_Landmrk  \\\n",
       "0              1            0                     0                     0   \n",
       "1              0            0                     0                     0   \n",
       "2              0            0                     0                     0   \n",
       "3              1            0                     0                     0   \n",
       "4              0            0                     0                     0   \n",
       "\n",
       "   Elec_Mix     SalePrice  \n",
       "0         0  1.096081e+08  \n",
       "1         0  1.475576e+08  \n",
       "2         0  8.100967e+07  \n",
       "3         0  7.183542e+07  \n",
       "4         0  1.042609e+08  \n",
       "\n",
       "[5 rows x 66 columns]"
      ]
     },
     "execution_count": 85,
     "metadata": {},
     "output_type": "execute_result"
    }
   ],
   "source": [
    "test.head()"
   ]
  },
  {
   "cell_type": "code",
   "execution_count": 87,
   "metadata": {},
   "outputs": [],
   "source": [
    "rem = list(test.columns)\n",
    "\n",
    "rem.remove(\"Id\")\n",
    "rem.remove(\"SalePrice\")\n",
    "\n",
    "test_preds = test.drop(columns = rem)"
   ]
  },
  {
   "cell_type": "code",
   "execution_count": 89,
   "metadata": {},
   "outputs": [
    {
     "data": {
      "text/plain": [
       "(878, 2)"
      ]
     },
     "execution_count": 89,
     "metadata": {},
     "output_type": "execute_result"
    }
   ],
   "source": [
    "test_preds.shape"
   ]
  },
  {
   "cell_type": "code",
   "execution_count": 91,
   "metadata": {},
   "outputs": [],
   "source": [
    "test_preds.to_csv(\"./datasets/kaggle_sub_v5\", index = False)"
   ]
  },
  {
   "cell_type": "code",
   "execution_count": null,
   "metadata": {},
   "outputs": [],
   "source": []
  }
 ],
 "metadata": {
  "kernelspec": {
   "display_name": "Python 3",
   "language": "python",
   "name": "python3"
  },
  "language_info": {
   "codemirror_mode": {
    "name": "ipython",
    "version": 3
   },
   "file_extension": ".py",
   "mimetype": "text/x-python",
   "name": "python",
   "nbconvert_exporter": "python",
   "pygments_lexer": "ipython3",
   "version": "3.7.4"
  }
 },
 "nbformat": 4,
 "nbformat_minor": 2
}
