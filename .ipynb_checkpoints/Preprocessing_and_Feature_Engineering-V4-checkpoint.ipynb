{
 "cells": [
  {
   "cell_type": "markdown",
   "metadata": {},
   "source": [
    "#### Version 3: \n",
    "_This is the second version of the model. This is developed with variables removed from the initial list. This was developed after omitting the following columns: MS SubClass, MS Zoning, Miscellaneous Features, Exterior 1st, and Exterior 2nd_"
   ]
  },
  {
   "cell_type": "markdown",
   "metadata": {},
   "source": [
    "### Imports and Data Reading"
   ]
  },
  {
   "cell_type": "code",
   "execution_count": 1,
   "metadata": {},
   "outputs": [],
   "source": [
    "import pandas as pd\n",
    "import numpy as np \n",
    "import matplotlib.pyplot as plt\n",
    "import seaborn as sns\n",
    "\n",
    "from sklearn.linear_model import LinearRegression, LassoCV, RidgeCV\n",
    "from sklearn.metrics import mean_absolute_error, mean_squared_error\n",
    "from sklearn.model_selection import cross_val_score, train_test_split\n",
    "from sklearn.preprocessing import StandardScaler"
   ]
  },
  {
   "cell_type": "code",
   "execution_count": 2,
   "metadata": {},
   "outputs": [],
   "source": [
    "# Make sure you use the CLEANED csv's! \n",
    "\n",
    "train = pd.read_csv(\"./datasets/train_cleaned.csv\")\n",
    "test = pd.read_csv(\"./datasets/test_cleaned.csv\")\n",
    "\n",
    "# including these in case I get rid of columns I want to get back O___o\n",
    "\n",
    "train_source = pd.read_csv(\"./datasets/train_cleaned.csv\")\n",
    "test_source = pd.read_csv(\"./datasets/test_cleaned.csv\")"
   ]
  },
  {
   "cell_type": "markdown",
   "metadata": {},
   "source": [
    "### Attribute Selection and Dummifying "
   ]
  },
  {
   "cell_type": "markdown",
   "metadata": {},
   "source": [
    "As a reminder, here are the traits identified during EDA to use in the model:\n",
    "\n",
    "**Categorical/Discrete:** Number of Rooms, Neighborhood, House Style, Basement Condition, Heating Type, Electricity Type, Garage Type, Pool Quality, MS SubClass, MS Zoning, Utility Type, Proximity to Conditions (1 and 2), Exterior Covering (1 and 2), Building Foundation Type, Miscellaneous Feature, Kitchen Quality\n",
    "\n",
    "**Numerical/Continuous:** House Age, Remodel Age, Above Ground Living Area, Total Square Footage Available, Lot Area, Overall Quality/Condition Average\n",
    "\n",
    "**Total Number of Variables (excluding trait dummying):** 24"
   ]
  },
  {
   "cell_type": "code",
   "execution_count": 3,
   "metadata": {},
   "outputs": [],
   "source": [
    "# to start, let's isolate the columns we want to keep \n",
    "\n",
    "keep_test = [\"Lot Area\", \"Utilities\", \"Neighborhood\", \"Condition 1\", \"Condition 2\", \n",
    "        \"House Style\", \"Foundation\", \"Bsmt Cond\", \"Heating\", \"Electrical\", \n",
    "        \"Gr Liv Area\", \"Kitchen Qual\", \"TotRms AbvGrd\", \"Garage Type\", \"Pool QC\",\"Total SF\",\n",
    "        \"Overall Qu Co Avg\", \"Age Sold\", \"Remodel Age\"]\n",
    "\n",
    "keep_train = keep_test + [\"SalePrice\"]"
   ]
  },
  {
   "cell_type": "code",
   "execution_count": 4,
   "metadata": {},
   "outputs": [],
   "source": [
    "train = train[keep_train]\n",
    "\n",
    "test = test[keep_test]"
   ]
  },
  {
   "cell_type": "code",
   "execution_count": 5,
   "metadata": {},
   "outputs": [],
   "source": [
    "# define a function for dummifying all the categorical traits \n",
    "\n",
    "def dummify(df, column, prefix): \n",
    "    return pd.get_dummies(df, columns = [f\"{column}\"], prefix = f\"{prefix}\", drop_first = True)"
   ]
  },
  {
   "cell_type": "code",
   "execution_count": 6,
   "metadata": {},
   "outputs": [],
   "source": [
    "# dummify the categoricals \n",
    "\n",
    "categoricals = [\"Utilities\", \"Neighborhood\", \"Condition 1\", \"Condition 2\", \n",
    "                \"House Style\", \"Foundation\",\"Heating\", \"Electrical\", \n",
    "                \"Kitchen Qual\", \"Garage Type\"]\n",
    "prefixes = [\"Util\", \"Neighborhood\", \"Cond 1\", \"Cond 2\", \"Style\", \"Foundation\", \n",
    "            \"Heat\", \"Elec\", \"Kitchen\", \"Garage\"]\n",
    "\n",
    "for cat in range(len(categoricals)): \n",
    "    train = dummify(train, f\"{categoricals[cat]}\", f\"{prefixes[cat]}\")\n",
    "    \n",
    "for cat in range(len(categoricals)): \n",
    "    test = dummify(test, f\"{categoricals[cat]}\", f\"{prefixes[cat]}\")"
   ]
  },
  {
   "cell_type": "code",
   "execution_count": 7,
   "metadata": {},
   "outputs": [],
   "source": [
    "# fill in numerical values for ranked columns \n",
    "\n",
    "train[\"Pool QC\"].fillna(value = \"NA\", inplace = True)\n",
    "test[\"Pool QC\"].fillna(value = \"NA\", inplace = True)\n",
    "\n",
    "train[\"Bsmt Cond\"].fillna(value = \"NA\", inplace = True)\n",
    "test[\"Bsmt Cond\"].fillna(value = \"NA\", inplace = True)\n",
    "\n",
    "train[\"Bsmt Cond\"].replace(to_replace = {\"Ex\" : 5, \"Gd\": 4, \"TA\": 3, \"Fa\": 2, \"Po\": 1, \"NA\": 0}, inplace = True)\n",
    "train[\"Bsmt Cond\"].astype('int')\n",
    "test[\"Bsmt Cond\"].replace(to_replace = {\"Ex\" : 5, \"Gd\": 4, \"TA\": 3, \"Fa\": 2, \"Po\": 1, \"NA\": 0}, inplace = True)\n",
    "test[\"Bsmt Cond\"].astype('int')\n",
    "\n",
    "train[\"Pool QC\"].replace(to_replace = {\"Ex\": 4, \"Gd\": 3, \"TA\": 2, \"Fa\": 1, \"NA\": 0}, inplace = True)\n",
    "train[\"Pool QC\"].astype('int')\n",
    "test[\"Pool QC\"].replace(to_replace = {\"Ex\": 4, \"Gd\": 3, \"TA\": 2, \"Fa\": 1, \"NA\": 0}, inplace = True)\n",
    "test[\"Pool QC\"].astype('int'); "
   ]
  },
  {
   "cell_type": "code",
   "execution_count": 8,
   "metadata": {},
   "outputs": [],
   "source": [
    "# remove outliers from training set identified in EDA section \n",
    "\n",
    "train = train[(train[\"Gr Liv Area\"] < 5000) & (train[\"Lot Area\"] < 14000)]"
   ]
  },
  {
   "cell_type": "code",
   "execution_count": 9,
   "metadata": {},
   "outputs": [
    {
     "data": {
      "text/plain": [
       "(1821, 82)"
      ]
     },
     "execution_count": 9,
     "metadata": {},
     "output_type": "execute_result"
    }
   ],
   "source": [
    "train.shape"
   ]
  },
  {
   "cell_type": "code",
   "execution_count": 10,
   "metadata": {},
   "outputs": [
    {
     "data": {
      "text/plain": [
       "(878, 72)"
      ]
     },
     "execution_count": 10,
     "metadata": {},
     "output_type": "execute_result"
    }
   ],
   "source": [
    "test.shape"
   ]
  },
  {
   "cell_type": "code",
   "execution_count": 11,
   "metadata": {},
   "outputs": [],
   "source": [
    "# the columns are different now. \n",
    "# UGGGGHHHHHHHHHHHH"
   ]
  },
  {
   "cell_type": "code",
   "execution_count": 12,
   "metadata": {},
   "outputs": [],
   "source": [
    "# identify columns that are missing from one set but present in another \n",
    "# these are from when we dummified the categoricals\n",
    "# so columns will be created and filled with 0's \n",
    "\n",
    "needed_test = [col for col in train.columns if col not in test.columns]\n",
    "\n",
    "needed_test.remove(\"SalePrice\")\n",
    "\n",
    "needed_train = [col for col in test.columns if col not in train.columns]\n",
    "\n",
    "for col in range(len(needed_test)): \n",
    "    test[f\"{needed_test[col]}\"] = 0 * len(test[\"Age Sold\"])\n",
    "    \n",
    "for col in range(len(needed_train)): \n",
    "    train[f\"{needed_train[col]}\"] = 0 * len(train[\"Age Sold\"])"
   ]
  },
  {
   "cell_type": "code",
   "execution_count": 13,
   "metadata": {},
   "outputs": [
    {
     "data": {
      "text/plain": [
       "(878, 83)"
      ]
     },
     "execution_count": 13,
     "metadata": {},
     "output_type": "execute_result"
    }
   ],
   "source": [
    "test.shape"
   ]
  },
  {
   "cell_type": "code",
   "execution_count": 14,
   "metadata": {},
   "outputs": [
    {
     "data": {
      "text/plain": [
       "(1821, 84)"
      ]
     },
     "execution_count": 14,
     "metadata": {},
     "output_type": "execute_result"
    }
   ],
   "source": [
    "train.shape"
   ]
  },
  {
   "cell_type": "code",
   "execution_count": 15,
   "metadata": {},
   "outputs": [],
   "source": [
    "# Now the columns match up\n",
    "# yay. "
   ]
  },
  {
   "cell_type": "markdown",
   "metadata": {},
   "source": [
    "### Feature Assignment and Splitting"
   ]
  },
  {
   "cell_type": "code",
   "execution_count": 16,
   "metadata": {},
   "outputs": [],
   "source": [
    "# define variables\n",
    "\n",
    "X = train.drop(columns = [\"SalePrice\"])\n",
    "\n",
    "y = train[\"SalePrice\"]"
   ]
  },
  {
   "cell_type": "code",
   "execution_count": 17,
   "metadata": {},
   "outputs": [],
   "source": [
    "X_train, X_test, y_train, y_test = train_test_split(X, y, test_size = 0.33, random_state = 69)\n",
    "\n",
    "# cannot stratify -- it got mad, there was only one instance of certain traits (due to dummifying)\n",
    "# changed random state because 42 was giving me some weird numbers, and after trying 123 69 was the tie breaker"
   ]
  },
  {
   "cell_type": "markdown",
   "metadata": {},
   "source": [
    "### Modeling"
   ]
  },
  {
   "cell_type": "markdown",
   "metadata": {},
   "source": [
    "#### Linear Regression "
   ]
  },
  {
   "cell_type": "code",
   "execution_count": 18,
   "metadata": {},
   "outputs": [
    {
     "data": {
      "text/plain": [
       "LinearRegression(copy_X=True, fit_intercept=True, n_jobs=None, normalize=False)"
      ]
     },
     "execution_count": 18,
     "metadata": {},
     "output_type": "execute_result"
    }
   ],
   "source": [
    "# classic linear regression model \n",
    "\n",
    "model = LinearRegression()\n",
    "\n",
    "model.fit(X_train, y_train)"
   ]
  },
  {
   "cell_type": "code",
   "execution_count": 19,
   "metadata": {},
   "outputs": [
    {
     "data": {
      "text/plain": [
       "0.8816029638395713"
      ]
     },
     "execution_count": 19,
     "metadata": {},
     "output_type": "execute_result"
    }
   ],
   "source": [
    "cross_val_score(model, X_train, y_train, cv = 12).mean()"
   ]
  },
  {
   "cell_type": "code",
   "execution_count": 20,
   "metadata": {},
   "outputs": [
    {
     "data": {
      "text/plain": [
       "0.8801265809788817"
      ]
     },
     "execution_count": 20,
     "metadata": {},
     "output_type": "execute_result"
    }
   ],
   "source": [
    "cross_val_score(model, X_test, y_test, cv = 12).mean()\n",
    "\n",
    "# there is a difference of about 0.1 between my R^2 values--try other regressions for more aligned outcomes"
   ]
  },
  {
   "cell_type": "code",
   "execution_count": 21,
   "metadata": {},
   "outputs": [
    {
     "data": {
      "image/png": "[encoded data removed]",
      "text/plain": [
       "<Figure size 432x288 with 1 Axes>"
      ]
     },
     "metadata": {
      "needs_background": "light"
     },
     "output_type": "display_data"
    }
   ],
   "source": [
    "y_preds = model.predict(X_train)\n",
    "\n",
    "\n",
    "plt.figure(figsize = (6, 4))\n",
    "plt.scatter(y_train, y_preds, s = 12, alpha = 0.3)\n",
    "plt.title(\"Residuals\")\n",
    "plt.xlabel(\"Actual Values\")\n",
    "plt.ylabel(\"Predicted Values\"); "
   ]
  },
  {
   "cell_type": "markdown",
   "metadata": {},
   "source": [
    "#### Scaled Linear Regression"
   ]
  },
  {
   "cell_type": "code",
   "execution_count": 22,
   "metadata": {},
   "outputs": [
    {
     "data": {
      "text/plain": [
       "StandardScaler(copy=True, with_mean=True, with_std=True)"
      ]
     },
     "execution_count": 22,
     "metadata": {},
     "output_type": "execute_result"
    }
   ],
   "source": [
    "ss = StandardScaler()\n",
    "\n",
    "ss.fit(X_train)\n"
   ]
  },
  {
   "cell_type": "code",
   "execution_count": 23,
   "metadata": {},
   "outputs": [],
   "source": [
    "X_train_sc = ss.transform(X_train)"
   ]
  },
  {
   "cell_type": "code",
   "execution_count": 24,
   "metadata": {},
   "outputs": [],
   "source": [
    "X_test_sc = ss.transform(X_test)"
   ]
  },
  {
   "cell_type": "code",
   "execution_count": 25,
   "metadata": {},
   "outputs": [
    {
     "data": {
      "text/plain": [
       "LinearRegression(copy_X=True, fit_intercept=True, n_jobs=None, normalize=False)"
      ]
     },
     "execution_count": 25,
     "metadata": {},
     "output_type": "execute_result"
    }
   ],
   "source": [
    "model2 = LinearRegression()\n",
    "\n",
    "model2.fit(X_train_sc, y_train)"
   ]
  },
  {
   "cell_type": "code",
   "execution_count": 26,
   "metadata": {},
   "outputs": [
    {
     "data": {
      "text/plain": [
       "array([ 9.28101313e-01, -3.64956828e+05,  8.39365970e-01,  8.52653317e-01,\n",
       "        8.90621142e-01,  8.96453291e-01,  8.77362418e-01,  9.15890763e-01,\n",
       "        9.17190808e-01,  8.88936871e-01,  8.95666474e-01, -9.47355568e+20])"
      ]
     },
     "execution_count": 26,
     "metadata": {},
     "output_type": "execute_result"
    }
   ],
   "source": [
    "cross_val_score(model2, X_train_sc, y_train, cv = 12)"
   ]
  },
  {
   "cell_type": "code",
   "execution_count": 27,
   "metadata": {},
   "outputs": [
    {
     "data": {
      "text/plain": [
       "-7.894629732020616e+19"
      ]
     },
     "execution_count": 27,
     "metadata": {},
     "output_type": "execute_result"
    }
   ],
   "source": [
    "cross_val_score(model2, X_train_sc, y_train, cv = 12).mean()"
   ]
  },
  {
   "cell_type": "code",
   "execution_count": 28,
   "metadata": {},
   "outputs": [
    {
     "data": {
      "text/plain": [
       "array([-1.69170447e+25, -3.44692070e+21,  8.48070088e-01,  9.03147208e-01,\n",
       "        8.70498900e-01, -1.37414255e+21, -1.33821241e+20, -9.11421346e+23,\n",
       "       -1.01864987e+17, -9.76967814e+23,  9.01834830e-01,  8.14438105e-01])"
      ]
     },
     "execution_count": 28,
     "metadata": {},
     "output_type": "execute_result"
    }
   ],
   "source": [
    "cross_val_score(model2, X_test_sc, y_test, cv = 12)\n",
    "\n",
    "# well, this clearly isn't working"
   ]
  },
  {
   "cell_type": "code",
   "execution_count": 29,
   "metadata": {},
   "outputs": [
    {
     "data": {
      "text/plain": [
       "-1.5675324034670908e+24"
      ]
     },
     "execution_count": 29,
     "metadata": {},
     "output_type": "execute_result"
    }
   ],
   "source": [
    "cross_val_score(model2, X_test_sc, y_test, cv = 12).mean()"
   ]
  },
  {
   "cell_type": "markdown",
   "metadata": {},
   "source": [
    "#### LASSO Regression"
   ]
  },
  {
   "cell_type": "code",
   "execution_count": 30,
   "metadata": {},
   "outputs": [
    {
     "data": {
      "text/plain": [
       "LassoCV(alphas=array([   1.        ,    1.07226722,    1.149757  ,    1.23284674,\n",
       "          1.32194115,    1.41747416,    1.51991108,    1.62975083,\n",
       "          1.7475284 ,    1.87381742,    2.009233  ,    2.15443469,\n",
       "          2.3101297 ,    2.47707636,    2.65608778,    2.84803587,\n",
       "          3.05385551,    3.27454916,    3.51119173,    3.76493581,\n",
       "          4.03701726,    4.32876128,    4.64158883,    4.97702356,\n",
       "          5.33669923,    5.72236766,    6.13590727,    6.57933225,\n",
       "          7.05480231,    7.56463328,    8.11130831,    8...\n",
       "        351.11917342,  376.49358068,  403.70172586,  432.87612811,\n",
       "        464.15888336,  497.70235643,  533.66992312,  572.23676594,\n",
       "        613.59072734,  657.93322466,  705.48023107,  756.46332755,\n",
       "        811.13083079,  869.74900262,  932.60334688, 1000.        ]),\n",
       "        copy_X=True, cv=5, eps=0.001, fit_intercept=True, max_iter=1000,\n",
       "        n_alphas=100, n_jobs=None, normalize=False, positive=False,\n",
       "        precompute='auto', random_state=None, selection='cyclic', tol=0.0001,\n",
       "        verbose=False)"
      ]
     },
     "execution_count": 30,
     "metadata": {},
     "output_type": "execute_result"
    }
   ],
   "source": [
    "lasso = LassoCV(cv = 5, alphas = np.logspace(0, 3, 100))\n",
    "\n",
    "lasso.fit(X_train_sc, y_train)"
   ]
  },
  {
   "cell_type": "code",
   "execution_count": 31,
   "metadata": {},
   "outputs": [
    {
     "data": {
      "text/plain": [
       "0.8831586574999841"
      ]
     },
     "execution_count": 31,
     "metadata": {},
     "output_type": "execute_result"
    }
   ],
   "source": [
    "cross_val_score(lasso, X_train_sc, y_train, cv = 12).mean()"
   ]
  },
  {
   "cell_type": "code",
   "execution_count": 32,
   "metadata": {},
   "outputs": [
    {
     "data": {
      "text/plain": [
       "0.8797088424422285"
      ]
     },
     "execution_count": 32,
     "metadata": {},
     "output_type": "execute_result"
    }
   ],
   "source": [
    "cross_val_score(lasso, X_test_sc, y_test, cv = 12).mean()\n",
    "\n",
    "# R^2 values are much closer together now, and remained pretty high"
   ]
  },
  {
   "cell_type": "code",
   "execution_count": 33,
   "metadata": {},
   "outputs": [
    {
     "data": {
      "image/png": "[encoded data removed]",
      "text/plain": [
       "<Figure size 432x288 with 1 Axes>"
      ]
     },
     "metadata": {
      "needs_background": "light"
     },
     "output_type": "display_data"
    }
   ],
   "source": [
    "y_lasso_preds = lasso.predict(X_train_sc)\n",
    "\n",
    "plt.figure(figsize = (6, 4))\n",
    "\n",
    "plt.scatter(y_train, y_lasso_preds, s = 12, alpha = 0.3)\n",
    "plt.title(\"Residuals: Lasso Regression\")\n",
    "plt.xlabel(\"Actual Values\")\n",
    "plt.ylabel(\"Predicted Values\"); "
   ]
  },
  {
   "cell_type": "markdown",
   "metadata": {},
   "source": [
    "#### Ridge Regression"
   ]
  },
  {
   "cell_type": "code",
   "execution_count": 34,
   "metadata": {},
   "outputs": [
    {
     "data": {
      "text/plain": [
       "RidgeCV(alphas=array([ 0.1,  1. , 10. ]), cv=None, fit_intercept=True,\n",
       "        gcv_mode=None, normalize=False, scoring=None, store_cv_values=False)"
      ]
     },
     "execution_count": 34,
     "metadata": {},
     "output_type": "execute_result"
    }
   ],
   "source": [
    "ridge = RidgeCV()\n",
    "\n",
    "ridge.fit(X_train_sc, y_train)"
   ]
  },
  {
   "cell_type": "code",
   "execution_count": 35,
   "metadata": {},
   "outputs": [
    {
     "data": {
      "text/plain": [
       "0.8821038653018732"
      ]
     },
     "execution_count": 35,
     "metadata": {},
     "output_type": "execute_result"
    }
   ],
   "source": [
    "cross_val_score(ridge, X_train_sc, y_train, cv = 12).mean()"
   ]
  },
  {
   "cell_type": "code",
   "execution_count": 36,
   "metadata": {},
   "outputs": [
    {
     "data": {
      "text/plain": [
       "0.8790926234985711"
      ]
     },
     "execution_count": 36,
     "metadata": {},
     "output_type": "execute_result"
    }
   ],
   "source": [
    "cross_val_score(ridge, X_test_sc, y_test, cv = 12).mean()\n",
    "\n",
    "# cross val score for train set is almost same with Ridge as with Lasso \n",
    "# Lasso performed better with test set "
   ]
  },
  {
   "cell_type": "code",
   "execution_count": 37,
   "metadata": {},
   "outputs": [
    {
     "data": {
      "image/png": "[encoded data removed]",
      "text/plain": [
       "<Figure size 432x288 with 1 Axes>"
      ]
     },
     "metadata": {
      "needs_background": "light"
     },
     "output_type": "display_data"
    }
   ],
   "source": [
    "y_ridge_preds = ridge.predict(X_train_sc)\n",
    "\n",
    "plt.figure(figsize = (6, 4))\n",
    "\n",
    "plt.scatter(y_train, y_ridge_preds, s = 12, alpha = 0.3)\n",
    "plt.title(\"Residuals: Ridge Regression\")\n",
    "plt.xlabel(\"Actual Values\")\n",
    "plt.ylabel(\"Predicted Values\"); "
   ]
  },
  {
   "cell_type": "code",
   "execution_count": null,
   "metadata": {},
   "outputs": [],
   "source": []
  },
  {
   "cell_type": "code",
   "execution_count": null,
   "metadata": {},
   "outputs": [],
   "source": []
  },
  {
   "cell_type": "code",
   "execution_count": null,
   "metadata": {},
   "outputs": [],
   "source": []
  },
  {
   "cell_type": "code",
   "execution_count": null,
   "metadata": {},
   "outputs": [],
   "source": []
  },
  {
   "cell_type": "markdown",
   "metadata": {},
   "source": [
    "### Summary : Version 3\n",
    "This version had **Linear Regression** as the best performing regression model. \n",
    " - Train $R^2$ = 0.883\n",
    " - Test $R^2$ = 0.880\n",
    " \n",
    "Other regression models performed as such: \n",
    " - **Ridge Regression** \n",
    "   - Train $R^2$ = 0.882\n",
    "   - Test $RR^2$ = 0.879\n",
    " - **Lasso Regression**\n",
    "   - Train $R^2$ = 0.882\n",
    "   - Test $R^2$ = 0.880\n",
    " - **Scaled Linear Regression** \n",
    "   - Train $R^2$ = practically zero\n",
    "   - Test $R^2$ = practically zero "
   ]
  },
  {
   "cell_type": "code",
   "execution_count": null,
   "metadata": {},
   "outputs": [],
   "source": []
  }
 ],
 "metadata": {
  "kernelspec": {
   "display_name": "Python 3",
   "language": "python",
   "name": "python3"
  },
  "language_info": {
   "codemirror_mode": {
    "name": "ipython",
    "version": 3
   },
   "file_extension": ".py",
   "mimetype": "text/x-python",
   "name": "python",
   "nbconvert_exporter": "python",
   "pygments_lexer": "ipython3",
   "version": "3.7.4"
  }
 },
 "nbformat": 4,
 "nbformat_minor": 2
}
