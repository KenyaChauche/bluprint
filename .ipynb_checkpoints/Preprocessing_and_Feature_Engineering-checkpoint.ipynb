{
 "cells": [
  {
   "cell_type": "markdown",
   "metadata": {},
   "source": [
    "### Imports and Data Reading"
   ]
  },
  {
   "cell_type": "code",
   "execution_count": 110,
   "metadata": {},
   "outputs": [],
   "source": [
    "import pandas as pd\n",
    "import numpy as np \n",
    "import matplotlib.pyplot as plt\n",
    "import seaborn as sns\n",
    "\n",
    "from sklearn.linear_model import LinearRegression\n",
    "from sklearn.metrics import mean_absolute_error, mean_squared_error\n",
    "from sklearn.model_selection import cross_val_score, train_test_split\n",
    "from sklearn.preprocessing import StandardScaler"
   ]
  },
  {
   "cell_type": "code",
   "execution_count": 43,
   "metadata": {},
   "outputs": [],
   "source": [
    "# Make sure you use the CLEANED csv's! \n",
    "\n",
    "train = pd.read_csv(\"./datasets/train_cleaned.csv\")\n",
    "test = pd.read_csv(\"./datasets/test_cleaned.csv\")\n",
    "\n",
    "# including these in case I get rid of columns I want to get back O___o\n",
    "\n",
    "train_source = pd.read_csv(\"./datasets/train_cleaned.csv\")\n",
    "test_source = pd.read_csv(\"./datasets/test_cleaned.csv\")"
   ]
  },
  {
   "cell_type": "markdown",
   "metadata": {},
   "source": [
    "### Attribute Selection and Dummifying "
   ]
  },
  {
   "cell_type": "markdown",
   "metadata": {},
   "source": [
    "As a reminder, here are the traits identified during EDA to use in the model:\n",
    "\n",
    "**Categorical/Discrete:** Number of Rooms, Neighborhood, House Style, Basement Condition, Heating Type, Electricity Type, Garage Type, Pool Quality, MS SubClass, MS Zoning, Utility Type, Proximity to Conditions (1 and 2), Exterior Covering (1 and 2), Building Foundation Type, Miscellaneous Feature, Kitchen Quality\n",
    "\n",
    "**Numerical/Continuous:** House Age, Remodel Age, Above Ground Living Area, Total Square Footage Available, Lot Area, Overall Quality/Condition Average\n",
    "\n",
    "**Total Number of Variables (excluding trait dummying):** 24"
   ]
  },
  {
   "cell_type": "code",
   "execution_count": 27,
   "metadata": {},
   "outputs": [],
   "source": [
    "# to start, let's isolate the columns we want to keep \n",
    "\n",
    "keep_test = [\"MS SubClass\", \"MS Zoning\", \"Lot Area\", \"Utilities\", \"Neighborhood\", \"Condition 1\", \"Condition 2\", \n",
    "        \"House Style\", \"Exterior 1st\", \"Exterior 2nd\", \"Foundation\", \"Bsmt Cond\", \"Heating\", \"Electrical\", \n",
    "        \"Gr Liv Area\", \"Kitchen Qual\", \"TotRms AbvGrd\", \"Garage Type\", \"Pool QC\", \"Misc Feature\", \"Total SF\",\n",
    "        \"Overall Qu Co Avg\", \"Age Sold\", \"Remodel Age\"]\n",
    "\n",
    "keep_train = keep_test + [\"SalePrice\"]"
   ]
  },
  {
   "cell_type": "code",
   "execution_count": 44,
   "metadata": {},
   "outputs": [],
   "source": [
    "train = train[keep_train]\n",
    "\n",
    "test = test[keep_test]"
   ]
  },
  {
   "cell_type": "code",
   "execution_count": 45,
   "metadata": {},
   "outputs": [],
   "source": [
    "# define a function for dummifying all the categorical traits \n",
    "\n",
    "def dummify(df, column, prefix): \n",
    "    return pd.get_dummies(df, columns = [f\"{column}\"], prefix = f\"{prefix}\", drop_first = True)"
   ]
  },
  {
   "cell_type": "code",
   "execution_count": 46,
   "metadata": {},
   "outputs": [],
   "source": [
    "categoricals = [\"MS SubClass\", \"MS Zoning\", \"Utilities\", \"Neighborhood\", \"Condition 1\", \"Condition 2\", \n",
    "                \"House Style\", \"Exterior 1st\", \"Exterior 2nd\", \"Foundation\", \"Misc Feature\", \"Heating\", \"Electrical\", \n",
    "                \"Kitchen Qual\", \"Garage Type\"]\n",
    "prefixes = [\"SubClass\", \"Zone\", \"Util\", \"Neighborhood\", \"Cond 1\", \"Cond 2\", \"Style\", \"Ext 1\", \"Ext 2\", \"Foundation\", \n",
    "            \"Misc\", \"Heat\", \"Elec\", \"Kitchen\", \"Garage\"]\n",
    "\n",
    "for cat in range(len(categoricals)): \n",
    "    train = dummify(train, f\"{categoricals[cat]}\", f\"{prefixes[cat]}\")\n",
    "    \n",
    "for cat in range(len(categoricals)): \n",
    "    test = dummify(test, f\"{categoricals[cat]}\", f\"{prefixes[cat]}\")"
   ]
  },
  {
   "cell_type": "code",
   "execution_count": 47,
   "metadata": {},
   "outputs": [],
   "source": [
    "train[\"Pool QC\"].fillna(value = \"NA\", inplace = True)\n",
    "test[\"Pool QC\"].fillna(value = \"NA\", inplace = True)\n",
    "\n",
    "train[\"Bsmt Cond\"].fillna(value = \"NA\", inplace = True)\n",
    "test[\"Bsmt Cond\"].fillna(value = \"NA\", inplace = True)"
   ]
  },
  {
   "cell_type": "code",
   "execution_count": 48,
   "metadata": {},
   "outputs": [
    {
     "data": {
      "text/plain": [
       "0      0\n",
       "1      0\n",
       "2      0\n",
       "3      0\n",
       "4      0\n",
       "      ..\n",
       "873    0\n",
       "874    0\n",
       "875    0\n",
       "876    0\n",
       "877    0\n",
       "Name: Pool QC, Length: 878, dtype: int64"
      ]
     },
     "execution_count": 48,
     "metadata": {},
     "output_type": "execute_result"
    }
   ],
   "source": [
    "train[\"Bsmt Cond\"].replace(to_replace = {\"Ex\" : 5, \"Gd\": 4, \"TA\": 3, \"Fa\": 2, \"Po\": 1, \"NA\": 0}, inplace = True)\n",
    "train[\"Bsmt Cond\"].astype('int')\n",
    "test[\"Bsmt Cond\"].replace(to_replace = {\"Ex\" : 5, \"Gd\": 4, \"TA\": 3, \"Fa\": 2, \"Po\": 1, \"NA\": 0}, inplace = True)\n",
    "test[\"Bsmt Cond\"].astype('int')\n",
    "\n",
    "train[\"Pool QC\"].replace(to_replace = {\"Ex\": 4, \"Gd\": 3, \"TA\": 2, \"Fa\": 1, \"NA\": 0}, inplace = True)\n",
    "train[\"Pool QC\"].astype('int')\n",
    "test[\"Pool QC\"].replace(to_replace = {\"Ex\": 4, \"Gd\": 3, \"TA\": 2, \"Fa\": 1, \"NA\": 0}, inplace = True)\n",
    "test[\"Pool QC\"].astype('int'); "
   ]
  },
  {
   "cell_type": "code",
   "execution_count": 74,
   "metadata": {},
   "outputs": [
    {
     "data": {
      "text/plain": [
       "(2051, 135)"
      ]
     },
     "execution_count": 74,
     "metadata": {},
     "output_type": "execute_result"
    }
   ],
   "source": [
    "train.shape"
   ]
  },
  {
   "cell_type": "code",
   "execution_count": 75,
   "metadata": {},
   "outputs": [
    {
     "data": {
      "text/plain": [
       "(878, 120)"
      ]
     },
     "execution_count": 75,
     "metadata": {},
     "output_type": "execute_result"
    }
   ],
   "source": [
    "test.shape"
   ]
  },
  {
   "cell_type": "code",
   "execution_count": 76,
   "metadata": {},
   "outputs": [],
   "source": [
    "# the columns are different now. \n",
    "# UGGGGHHHHHHHHHHHH"
   ]
  },
  {
   "cell_type": "code",
   "execution_count": 81,
   "metadata": {},
   "outputs": [],
   "source": [
    "needed_test = [col for col in train.columns if col not in test.columns]\n",
    "\n",
    "needed_test.remove(\"SalePrice\")"
   ]
  },
  {
   "cell_type": "code",
   "execution_count": 78,
   "metadata": {},
   "outputs": [],
   "source": [
    "needed_train = [col for col in test.columns if col not in train.columns]"
   ]
  },
  {
   "cell_type": "code",
   "execution_count": 82,
   "metadata": {},
   "outputs": [],
   "source": [
    "for col in range(len(needed_test)): \n",
    "    test[f\"{needed_test[col]}\"] = 0 * len(test[\"Age Sold\"])"
   ]
  },
  {
   "cell_type": "code",
   "execution_count": 83,
   "metadata": {},
   "outputs": [],
   "source": [
    "for col in range(len(needed_train)): \n",
    "    train[f\"{needed_train[col]}\"] = 0 * len(train[\"Age Sold\"])"
   ]
  },
  {
   "cell_type": "code",
   "execution_count": 84,
   "metadata": {},
   "outputs": [
    {
     "data": {
      "text/plain": [
       "(878, 139)"
      ]
     },
     "execution_count": 84,
     "metadata": {},
     "output_type": "execute_result"
    }
   ],
   "source": [
    "test.shape"
   ]
  },
  {
   "cell_type": "code",
   "execution_count": 85,
   "metadata": {},
   "outputs": [
    {
     "data": {
      "text/plain": [
       "(2051, 140)"
      ]
     },
     "execution_count": 85,
     "metadata": {},
     "output_type": "execute_result"
    }
   ],
   "source": [
    "train.shape"
   ]
  },
  {
   "cell_type": "code",
   "execution_count": 113,
   "metadata": {},
   "outputs": [
    {
     "data": {
      "text/plain": [
       "SalePrice            598868.0\n",
       "Lot Area             157700.0\n",
       "Total SF              11418.0\n",
       "Gr Liv Area            5308.0\n",
       "Age Sold                136.0\n",
       "Remodel Age              60.0\n",
       "TotRms AbvGrd            13.0\n",
       "Overall Qu Co Avg         8.5\n",
       "Bsmt Cond                 5.0\n",
       "Pool QC                   4.0\n",
       "dtype: float64"
      ]
     },
     "execution_count": 113,
     "metadata": {},
     "output_type": "execute_result"
    }
   ],
   "source": [
    "(train.max() - train.min()).sort_values(ascending = False).head(10)\n"
   ]
  },
  {
   "cell_type": "code",
   "execution_count": 114,
   "metadata": {},
   "outputs": [],
   "source": [
    "# transform values \n",
    "# z scores (?) "
   ]
  },
  {
   "cell_type": "markdown",
   "metadata": {},
   "source": [
    "### Feature Assignment and Splitting"
   ]
  },
  {
   "cell_type": "code",
   "execution_count": 86,
   "metadata": {},
   "outputs": [],
   "source": [
    "X = train.drop(columns = [\"SalePrice\"])\n",
    "\n",
    "y = train[\"SalePrice\"]"
   ]
  },
  {
   "cell_type": "code",
   "execution_count": 87,
   "metadata": {},
   "outputs": [],
   "source": [
    "X_train, X_test, y_train, y_test = train_test_split(X, y, test_size = 0.33, random_state = 42)"
   ]
  },
  {
   "cell_type": "code",
   "execution_count": 88,
   "metadata": {},
   "outputs": [
    {
     "data": {
      "text/plain": [
       "LinearRegression(copy_X=True, fit_intercept=True, n_jobs=None, normalize=False)"
      ]
     },
     "execution_count": 88,
     "metadata": {},
     "output_type": "execute_result"
    }
   ],
   "source": [
    "model = LinearRegression()\n",
    "\n",
    "model.fit(X_train, y_train)"
   ]
  },
  {
   "cell_type": "code",
   "execution_count": 89,
   "metadata": {},
   "outputs": [
    {
     "data": {
      "text/plain": [
       "0.8787854621668215"
      ]
     },
     "execution_count": 89,
     "metadata": {},
     "output_type": "execute_result"
    }
   ],
   "source": [
    "cross_val_score(model, X_test, y_test, cv = 5).mean()"
   ]
  },
  {
   "cell_type": "code",
   "execution_count": 90,
   "metadata": {},
   "outputs": [
    {
     "data": {
      "text/plain": [
       "0.7714033191970449"
      ]
     },
     "execution_count": 90,
     "metadata": {},
     "output_type": "execute_result"
    }
   ],
   "source": [
    "cross_val_score(model, X_train, y_train, cv = 5).mean()"
   ]
  },
  {
   "cell_type": "code",
   "execution_count": 91,
   "metadata": {},
   "outputs": [],
   "source": [
    "y_preds = model.predict(X_train)"
   ]
  },
  {
   "cell_type": "code",
   "execution_count": 93,
   "metadata": {},
   "outputs": [
    {
     "data": {
      "image/png": "[encoded data removed]",
      "text/plain": [
       "<Figure size 432x288 with 1 Axes>"
      ]
     },
     "metadata": {
      "needs_background": "light"
     },
     "output_type": "display_data"
    }
   ],
   "source": [
    "plt.scatter(y_train, y_preds, s = 12, alpha = 0.3); "
   ]
  },
  {
   "cell_type": "code",
   "execution_count": null,
   "metadata": {},
   "outputs": [],
   "source": []
  }
 ],
 "metadata": {
  "kernelspec": {
   "display_name": "Python 3",
   "language": "python",
   "name": "python3"
  },
  "language_info": {
   "codemirror_mode": {
    "name": "ipython",
    "version": 3
   },
   "file_extension": ".py",
   "mimetype": "text/x-python",
   "name": "python",
   "nbconvert_exporter": "python",
   "pygments_lexer": "ipython3",
   "version": "3.7.4"
  }
 },
 "nbformat": 4,
 "nbformat_minor": 2
}
